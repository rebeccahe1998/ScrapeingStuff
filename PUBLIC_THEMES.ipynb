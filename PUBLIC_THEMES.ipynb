{
  "nbformat": 4,
  "nbformat_minor": 0,
  "metadata": {
    "colab": {
      "name": "PUBLIC_THEMES.ipynb",
      "provenance": [],
      "collapsed_sections": [],
      "authorship_tag": "ABX9TyOftQQk+QKvRqtfAn7SzvsB",
      "include_colab_link": true
    },
    "kernelspec": {
      "name": "python3",
      "display_name": "Python 3"
    }
  },
  "cells": [
    {
      "cell_type": "markdown",
      "metadata": {
        "id": "view-in-github",
        "colab_type": "text"
      },
      "source": [
        "<a href=\"https://colab.research.google.com/github/rebeccahe1998/ScrapeingStuff/blob/main/PUBLIC_THEMES.ipynb\" target=\"_parent\"><img src=\"https://colab.research.google.com/assets/colab-badge.svg\" alt=\"Open In Colab\"/></a>"
      ]
    },
    {
      "cell_type": "code",
      "metadata": {
        "id": "xJE55JwbhEn-"
      },
      "source": [
        "import requests\n",
        "from bs4 import BeautifulSoup\n",
        "import re\n",
        "import numpy as np\n",
        "import pandas as pd"
      ],
      "execution_count": null,
      "outputs": []
    },
    {
      "cell_type": "code",
      "metadata": {
        "id": "GqzGhlj3j7H6",
        "colab": {
          "base_uri": "https://localhost:8080/",
          "height": 162
        },
        "outputId": "44f53c1c-fcaa-4333-8a6e-a37e8e673642"
      },
      "source": [
        "bs4.version"
      ],
      "execution_count": null,
      "outputs": [
        {
          "output_type": "error",
          "ename": "NameError",
          "evalue": "ignored",
          "traceback": [
            "\u001b[0;31m---------------------------------------------------------------------------\u001b[0m",
            "\u001b[0;31mNameError\u001b[0m                                 Traceback (most recent call last)",
            "\u001b[0;32m<ipython-input-5-6dc062acb92d>\u001b[0m in \u001b[0;36m<module>\u001b[0;34m()\u001b[0m\n\u001b[0;32m----> 1\u001b[0;31m \u001b[0mbs4\u001b[0m\u001b[0;34m.\u001b[0m\u001b[0mversion\u001b[0m\u001b[0;34m\u001b[0m\u001b[0;34m\u001b[0m\u001b[0m\n\u001b[0m",
            "\u001b[0;31mNameError\u001b[0m: name 'bs4' is not defined"
          ]
        }
      ]
    },
    {
      "cell_type": "markdown",
      "metadata": {
        "id": "0ky-i9uklvNN"
      },
      "source": [
        "# This Notebook finds stocks and tickers for different themes and its description from Public.com\n",
        "No input is needed, just run all the cells and a Excel file with each sheets correponds to each theme is generated."
      ]
    },
    {
      "cell_type": "code",
      "metadata": {
        "id": "0AOfkTCsgLPw"
      },
      "source": [
        "# get every themes's urls\n",
        "response = requests.get('https://public.com/themes', proxies={'http':'186.248.170.82'})\n",
        "soup = BeautifulSoup(response.text,'lxml')\n",
        "url_ =[]\n",
        "for link in soup.findAll('a',href=True):\n",
        "    url_.append(link.get('href'))\n",
        "import re\n",
        "url_list = []\n",
        "for i in url_:\n",
        "    if re.match(r'/themes',i):\n",
        "        url_list.append('https://public.com'+i)\n",
        "\n",
        "# get url stock and ticker\n",
        "def get_df(page_url):\n",
        "    \n",
        "    storea = []\n",
        "    storeb = []\n",
        "    response = requests.get(page_url)\n",
        "    if not response.status_code == 200:    # if cannot scrap data from the url\n",
        "        return None\n",
        "    \n",
        "    try:\n",
        "        soup = BeautifulSoup(response.text,'lxml')\n",
        "        for a in soup.find_all('h3'):\n",
        "            storea.append(a.text)\n",
        "        for b in soup.find_all('p',class_='css-uqwykd'):\n",
        "            storeb.append(b.text)\n",
        "\n",
        "        return storea,storeb\n",
        "    \n",
        "    except:\n",
        "        return None\n"
      ],
      "execution_count": null,
      "outputs": []
    },
    {
      "cell_type": "code",
      "metadata": {
        "id": "huyY9BcngrVZ"
      },
      "source": [
        "# get description of each theme\n",
        "response = requests.get('https://public.com/themes')\n",
        "soup = BeautifulSoup(response.text,'lxml')\n",
        "description = []\n",
        "for a in soup.find_all('p',{'class':'css-ayr41v'}):\n",
        "    description.append(a.text)\n"
      ],
      "execution_count": null,
      "outputs": []
    },
    {
      "cell_type": "code",
      "metadata": {
        "id": "QP5s553QkiV-"
      },
      "source": [
        "# save\n",
        "writer = pd.ExcelWriter('PUBLIC_STOCK_TICKER.xlsx')\n",
        "for num,i in enumerate(url_list):\n",
        "    a,b = get_df(i)\n",
        "    df=pd.DataFrame({'Stock':a,'Ticker:':b} )\n",
        "    df.loc[0,['Description'] ]= description[num]\n",
        "    df.to_excel(writer, sheet_name=url_list[num].split('/')[-1])\n",
        "writer.save()"
      ],
      "execution_count": null,
      "outputs": []
    }
  ]
}