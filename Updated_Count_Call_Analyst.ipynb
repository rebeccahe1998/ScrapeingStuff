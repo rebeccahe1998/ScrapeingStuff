{
  "nbformat": 4,
  "nbformat_minor": 0,
  "metadata": {
    "colab": {
      "name": "Copy of Count_Call_Analyst.ipynb",
      "provenance": [],
      "collapsed_sections": [],
      "include_colab_link": true
    },
    "kernelspec": {
      "display_name": "Python 3",
      "name": "python3"
    }
  },
  "cells": [
    {
      "cell_type": "markdown",
      "metadata": {
        "id": "view-in-github",
        "colab_type": "text"
      },
      "source": [
        "<a href=\"https://colab.research.google.com/github/rebeccahe1998/ScrapeingStuff/blob/main/Updated_Count_Call_Analyst.ipynb\" target=\"_parent\"><img src=\"https://colab.research.google.com/assets/colab-badge.svg\" alt=\"Open In Colab\"/></a>"
      ]
    },
    {
      "cell_type": "code",
      "metadata": {
        "id": "C-CnRYDoMJVP",
        "colab": {
          "base_uri": "https://localhost:8080/"
        },
        "outputId": "9df14376-55a7-445e-bdd7-caad56826d71"
      },
      "source": [
        "from bs4 import BeautifulSoup\n",
        "import requests\n",
        "import time\n",
        "import random\n",
        "import os\n",
        "import re\n",
        "import numpy as np\n",
        "import pandas as pd\n",
        "!pip install html2text\n",
        "import html2text\n",
        "!pip install yfinance\n",
        "import yfinance as yf"
      ],
      "execution_count": 1,
      "outputs": [
        {
          "output_type": "stream",
          "text": [
            "Requirement already satisfied: html2text in /usr/local/lib/python3.7/dist-packages (2020.1.16)\n",
            "Requirement already satisfied: yfinance in /usr/local/lib/python3.7/dist-packages (0.1.55)\n",
            "Requirement already satisfied: requests>=2.20 in /usr/local/lib/python3.7/dist-packages (from yfinance) (2.23.0)\n",
            "Requirement already satisfied: numpy>=1.15 in /usr/local/lib/python3.7/dist-packages (from yfinance) (1.19.5)\n",
            "Requirement already satisfied: pandas>=0.24 in /usr/local/lib/python3.7/dist-packages (from yfinance) (1.1.5)\n",
            "Requirement already satisfied: lxml>=4.5.1 in /usr/local/lib/python3.7/dist-packages (from yfinance) (4.6.2)\n",
            "Requirement already satisfied: multitasking>=0.0.7 in /usr/local/lib/python3.7/dist-packages (from yfinance) (0.0.9)\n",
            "Requirement already satisfied: certifi>=2017.4.17 in /usr/local/lib/python3.7/dist-packages (from requests>=2.20->yfinance) (2020.12.5)\n",
            "Requirement already satisfied: urllib3!=1.25.0,!=1.25.1,<1.26,>=1.21.1 in /usr/local/lib/python3.7/dist-packages (from requests>=2.20->yfinance) (1.24.3)\n",
            "Requirement already satisfied: chardet<4,>=3.0.2 in /usr/local/lib/python3.7/dist-packages (from requests>=2.20->yfinance) (3.0.4)\n",
            "Requirement already satisfied: idna<3,>=2.5 in /usr/local/lib/python3.7/dist-packages (from requests>=2.20->yfinance) (2.10)\n",
            "Requirement already satisfied: python-dateutil>=2.7.3 in /usr/local/lib/python3.7/dist-packages (from pandas>=0.24->yfinance) (2.8.1)\n",
            "Requirement already satisfied: pytz>=2017.2 in /usr/local/lib/python3.7/dist-packages (from pandas>=0.24->yfinance) (2018.9)\n",
            "Requirement already satisfied: six>=1.5 in /usr/local/lib/python3.7/dist-packages (from python-dateutil>=2.7.3->pandas>=0.24->yfinance) (1.15.0)\n"
          ],
          "name": "stdout"
        }
      ]
    },
    {
      "cell_type": "markdown",
      "metadata": {
        "id": "WVHO6uPTgy1M"
      },
      "source": [
        "1. Get ticker and its full name required for Motley Fool search url\n",
        "2. Get all the available transcripts urls for the ticker\n",
        "3. Count how many analysts of text after the key word by splitting keyword 'Call participants'\n",
        "4. Generate a Excel file"
      ]
    },
    {
      "cell_type": "code",
      "metadata": {
        "id": "X3kiypBUcFY-",
        "colab": {
          "base_uri": "https://localhost:8080/",
          "height": 35
        },
        "outputId": "5636b128-7810-42de-c809-1d1aa583e405"
      },
      "source": [
        "def full_name(ticker):\n",
        "    return yf.Ticker(ticker).info['longName'].split()[0].split(',')[0]\n",
        "full_name('DAVA')"
      ],
      "execution_count": 2,
      "outputs": [
        {
          "output_type": "execute_result",
          "data": {
            "application/vnd.google.colaboratory.intrinsic+json": {
              "type": "string"
            },
            "text/plain": [
              "'Endava'"
            ]
          },
          "metadata": {
            "tags": []
          },
          "execution_count": 2
        }
      ]
    },
    {
      "cell_type": "code",
      "metadata": {
        "id": "shS-HO2JU2Ri"
      },
      "source": [
        "\n",
        "user_agent = [\"Mozilla/5.0 (Windows NT 10.0; Win64; x64) AppleWebKit/537.36 (KHTML, like Gecko) Chrome/72.0.3626.121 Safari/537.36\",\n",
        "                \"Mozilla/5.0 (Windows; U; Windows NT 6.1; en-US) AppleWebKit/534.10 (KHTML, like Gecko) Chrome/7.0.540.0 Safari/534.10\",\n",
        "                \"Mozilla/5.0 (Windows; U; Windows NT 5.2; en-US) AppleWebKit/534.4 (KHTML, like Gecko) Chrome/6.0.481.0 Safari/534.4\",\n",
        "                \"Mozilla/5.0 (Macintosh; U; Intel Mac OS X; en-US) AppleWebKit/533.4 (KHTML, like Gecko) Chrome/5.0.375.86 Safari/533.4\",\n",
        "                \"Mozilla/5.0 (Windows; U; Windows NT 5.1; en-US) AppleWebKit/532.2 (KHTML, like Gecko) Chrome/4.0.223.3 Safari/532.2\",\n",
        "                \"Mozilla/5.0 (Windows; U; Windows NT 6.1; en-US) AppleWebKit/532.0 (KHTML, like Gecko) Chrome/4.0.201.1 Safari/532.0\",\n",
        "                \"Mozilla/5.0 (Windows; U; Windows NT 5.2; en-US) AppleWebKit/532.0 (KHTML, like Gecko) Chrome/3.0.195.27 Safari/532.0\",\n",
        "                \"Mozilla/5.0 (Windows; U; Windows NT 5.1; en-US) AppleWebKit/530.5 (KHTML, like Gecko) Chrome/2.0.173.1 Safari/530.5\",\n",
        "                \"Mozilla/5.0 (Windows; U; Windows NT 5.2; en-US) AppleWebKit/534.10 (KHTML, like Gecko) Chrome/8.0.558.0 Safari/534.10\",\n",
        "                \"Mozilla/5.0 (X11; U; Linux x86_64; en-US) AppleWebKit/540.0 (KHTML,like Gecko) Chrome/9.1.0.0 Safari/540.0\"]"
      ],
      "execution_count": 3,
      "outputs": []
    },
    {
      "cell_type": "code",
      "metadata": {
        "id": "qAIlXzNzZgPC"
      },
      "source": [
        "def headers():\n",
        "    return {'User-Agent':user_agent[random.randint(0, len(user_agent) - 1)],}\n",
        "def get_urls(full_name, ticker):\n",
        "    url_ = []\n",
        "    res = requests.get(f'https://www.fool.com/quote/nasdaq/{full_name}/{ticker}/',\n",
        "                   headers=headers(),proxies={'http':'150.129.148.88'})\n",
        "    # test which exchange(NYSE OR NASDAQ)\n",
        "    if not res.status_code == 200:\n",
        "        try:\n",
        "            res = requests.get(f'https://www.fool.com/quote/nyse/{full_name}/{ticker}/',\n",
        "                   headers=headers(),proxies={'http':'150.129.148.88'})\n",
        "        except: print('URL might be wrong')\n",
        "    soup = BeautifulSoup(res.content,'lxml')\n",
        "    for i in soup.find_all('a', {'data-id' : 'article-list-hl'}, href=re.compile(\"transcripts\")):\n",
        "        url_.append('https://www.fool.com'+i.get('href'))\n",
        "    # remove duplictes links \n",
        "    url_list = []\n",
        "    url_date = []\n",
        "    for url_i in url_:\n",
        "        if re.split(r'(q\\d+-\\d+)',url_i)[1] not in url_date:\n",
        "            url_date.append(re.split(r'(q\\d+-\\d+)',url_i)[1])\n",
        "            url_list.append(url_i)\n",
        "        else: pass\n",
        "    return url_date,url_list # return 'q3-2020', and url\n",
        "#get_urls('ENDAVA','DAVA')"
      ],
      "execution_count": 4,
      "outputs": []
    },
    {
      "cell_type": "code",
      "metadata": {
        "id": "kP_jqMAHv_8F"
      },
      "source": [
        "def get_call_participated_analyst(ticker):\n",
        "    full = full_name(ticker) \n",
        "    url_date, url_list = get_urls(full,ticker)\n",
        "    \n",
        "    inner_url_analyst_count = {'Date':[], ticker: []}\n",
        "\n",
        "    for i,(inner_url, inner_date) in enumerate(zip(url_list,url_date)):\n",
        "        time.sleep(np.random.randint(10))\n",
        "        try: \n",
        "            res = requests.get(inner_url,headers=headers(),proxies={'http':'150.129.148.88'})\n",
        "\n",
        "            inner_url_analyst_count['Date'].append(inner_date) # append date\n",
        "        except: print('Requests went wrong')\n",
        "\n",
        "        soup = BeautifulSoup(res.content,'lxml') \n",
        "        text = str(res.text)\n",
        "        text = html2text.html2text(text)\n",
        "        for i in ['Call Participants','Call participant']:\n",
        "            text = text.replace(i, 'Call participants')\n",
        "        participants = text.split('Call participants')[-1] #split by keyword to get participants\n",
        "        inner_url_analyst_count[ticker].append(len(re.findall(r'Analyst|Unidentified',participants)))\n",
        "        \n",
        "    return inner_url_analyst_count"
      ],
      "execution_count": 5,
      "outputs": []
    },
    {
      "cell_type": "code",
      "metadata": {
        "colab": {
          "base_uri": "https://localhost:8080/"
        },
        "id": "HJz5QFO6Xyc-",
        "outputId": "a0456bd6-15db-4df1-9633-3aedc5c2f2d5"
      },
      "source": [
        "get_call_participated_analyst('DAVA')"
      ],
      "execution_count": 6,
      "outputs": [
        {
          "output_type": "execute_result",
          "data": {
            "text/plain": [
              "{'DAVA': [9, 6, 8, 4, 5, 6, 5],\n",
              " 'Date': ['q3-2020',\n",
              "  'q2-2020',\n",
              "  'q1-2020',\n",
              "  'q4-2019',\n",
              "  'q3-2019',\n",
              "  'q1-2019',\n",
              "  'q4-2018']}"
            ]
          },
          "metadata": {
            "tags": []
          },
          "execution_count": 6
        }
      ]
    },
    {
      "cell_type": "code",
      "metadata": {
        "id": "TtoKPpTZRMcK"
      },
      "source": [
        "writer = pd.ExcelWriter('Earnings_Call_Analyst_Count.xlsx')\n",
        "def get_df(ticker):\n",
        "    df = pd.DataFrame.from_dict(get_call_participated_analyst(ticker), orient='index').reindex(['Date',ticker])\n",
        "    df.columns = df.iloc[0]\n",
        "    df = df[1:]\n",
        "    return df\n",
        "\n",
        "def merge_df(ticker_list):\n",
        "    df = get_df(ticker_list[0])\n",
        "    for ticc in ticker_list[1:]:\n",
        "        to_join = get_df(ticc)\n",
        "        df = pd.concat([df,to_join])\n",
        "    return df\n",
        "\n"
      ],
      "execution_count": 8,
      "outputs": []
    },
    {
      "cell_type": "code",
      "metadata": {
        "id": "F9UASf82H4p2"
      },
      "source": [
        "# trying the code above\n",
        "ticker_list = ['VNET', 'DAVA']#, 'FROG', 'LOPE', 'CCMP', 'MSGS', 'SONO', 'DOYU', 'WEN']\n",
        "joined = merge_df(ticker_list)"
      ],
      "execution_count": 9,
      "outputs": []
    },
    {
      "cell_type": "code",
      "metadata": {
        "colab": {
          "base_uri": "https://localhost:8080/",
          "height": 108
        },
        "id": "JvHyWxXTQxX-",
        "outputId": "f45386eb-8133-4285-e80b-ce45ec00e2af"
      },
      "source": [
        "joined # looks good"
      ],
      "execution_count": 10,
      "outputs": [
        {
          "output_type": "execute_result",
          "data": {
            "text/html": [
              "<div>\n",
              "<style scoped>\n",
              "    .dataframe tbody tr th:only-of-type {\n",
              "        vertical-align: middle;\n",
              "    }\n",
              "\n",
              "    .dataframe tbody tr th {\n",
              "        vertical-align: top;\n",
              "    }\n",
              "\n",
              "    .dataframe thead th {\n",
              "        text-align: right;\n",
              "    }\n",
              "</style>\n",
              "<table border=\"1\" class=\"dataframe\">\n",
              "  <thead>\n",
              "    <tr style=\"text-align: right;\">\n",
              "      <th></th>\n",
              "      <th>q3-2020</th>\n",
              "      <th>q2-2020</th>\n",
              "      <th>q1-2020</th>\n",
              "      <th>q4-2019</th>\n",
              "      <th>q3-2019</th>\n",
              "      <th>q2-2019</th>\n",
              "      <th>q1-2019</th>\n",
              "      <th>q4-2018</th>\n",
              "      <th>q2-2018</th>\n",
              "    </tr>\n",
              "  </thead>\n",
              "  <tbody>\n",
              "    <tr>\n",
              "      <th>VNET</th>\n",
              "      <td>9</td>\n",
              "      <td>9</td>\n",
              "      <td>5</td>\n",
              "      <td>6</td>\n",
              "      <td>4</td>\n",
              "      <td>3</td>\n",
              "      <td>2</td>\n",
              "      <td>5</td>\n",
              "      <td>7</td>\n",
              "    </tr>\n",
              "    <tr>\n",
              "      <th>DAVA</th>\n",
              "      <td>9</td>\n",
              "      <td>6</td>\n",
              "      <td>8</td>\n",
              "      <td>4</td>\n",
              "      <td>5</td>\n",
              "      <td>NaN</td>\n",
              "      <td>6</td>\n",
              "      <td>5</td>\n",
              "      <td>NaN</td>\n",
              "    </tr>\n",
              "  </tbody>\n",
              "</table>\n",
              "</div>"
            ],
            "text/plain": [
              "     q3-2020 q2-2020 q1-2020 q4-2019 q3-2019 q2-2019 q1-2019 q4-2018 q2-2018\n",
              "VNET       9       9       5       6       4       3       2       5       7\n",
              "DAVA       9       6       8       4       5     NaN       6       5     NaN"
            ]
          },
          "metadata": {
            "tags": []
          },
          "execution_count": 10
        }
      ]
    },
    {
      "cell_type": "code",
      "metadata": {
        "colab": {
          "base_uri": "https://localhost:8080/"
        },
        "id": "2eMsDXyCSYZ8",
        "outputId": "4aa1bca2-5a30-44e3-d246-9d0490982cb3"
      },
      "source": [
        "df = pd.read_excel('scrape_list.xlsx') # read in the ticker excel file\n",
        "mylist = df['Ticker'].tolist()\n",
        "ticker_list = mylist[0:10]\n",
        "ticker_list\n"
      ],
      "execution_count": 18,
      "outputs": [
        {
          "output_type": "execute_result",
          "data": {
            "text/plain": [
              "['TWOU',\n",
              " 'DRVN',\n",
              " 'VNET',\n",
              " 'DAVA',\n",
              " 'FROG',\n",
              " 'LOPE',\n",
              " 'CCMP',\n",
              " 'MSGS',\n",
              " 'SONO',\n",
              " 'DOYU']"
            ]
          },
          "metadata": {
            "tags": []
          },
          "execution_count": 18
        }
      ]
    },
    {
      "cell_type": "code",
      "metadata": {
        "id": "cG5tmTiPTN7y"
      },
      "source": [
        "joined = merge_df(ticker_list)"
      ],
      "execution_count": 19,
      "outputs": []
    },
    {
      "cell_type": "code",
      "metadata": {
        "colab": {
          "base_uri": "https://localhost:8080/",
          "height": 348
        },
        "id": "3It5pItOUlp1",
        "outputId": "274ee2fb-3613-484d-920e-03483680037c"
      },
      "source": [
        "joined"
      ],
      "execution_count": 20,
      "outputs": [
        {
          "output_type": "execute_result",
          "data": {
            "text/html": [
              "<div>\n",
              "<style scoped>\n",
              "    .dataframe tbody tr th:only-of-type {\n",
              "        vertical-align: middle;\n",
              "    }\n",
              "\n",
              "    .dataframe tbody tr th {\n",
              "        vertical-align: top;\n",
              "    }\n",
              "\n",
              "    .dataframe thead th {\n",
              "        text-align: right;\n",
              "    }\n",
              "</style>\n",
              "<table border=\"1\" class=\"dataframe\">\n",
              "  <thead>\n",
              "    <tr style=\"text-align: right;\">\n",
              "      <th></th>\n",
              "      <th>q4-2020</th>\n",
              "      <th>q3-2020</th>\n",
              "      <th>q2-2020</th>\n",
              "      <th>q1-2020</th>\n",
              "      <th>q4-2019</th>\n",
              "      <th>q3-2019</th>\n",
              "      <th>q2-2019</th>\n",
              "      <th>q1-2019</th>\n",
              "      <th>q4-2018</th>\n",
              "      <th>q3-2018</th>\n",
              "      <th>q2-2018</th>\n",
              "      <th>q1-2021</th>\n",
              "    </tr>\n",
              "  </thead>\n",
              "  <tbody>\n",
              "    <tr>\n",
              "      <th>TWOU</th>\n",
              "      <td>8</td>\n",
              "      <td>7</td>\n",
              "      <td>6</td>\n",
              "      <td>6</td>\n",
              "      <td>6</td>\n",
              "      <td>7</td>\n",
              "      <td>11</td>\n",
              "      <td>10</td>\n",
              "      <td>12</td>\n",
              "      <td>15</td>\n",
              "      <td>NaN</td>\n",
              "      <td>NaN</td>\n",
              "    </tr>\n",
              "    <tr>\n",
              "      <th>DRVN</th>\n",
              "      <td>NaN</td>\n",
              "      <td>NaN</td>\n",
              "      <td>NaN</td>\n",
              "      <td>NaN</td>\n",
              "      <td>NaN</td>\n",
              "      <td>NaN</td>\n",
              "      <td>NaN</td>\n",
              "      <td>NaN</td>\n",
              "      <td>NaN</td>\n",
              "      <td>NaN</td>\n",
              "      <td>NaN</td>\n",
              "      <td>NaN</td>\n",
              "    </tr>\n",
              "    <tr>\n",
              "      <th>VNET</th>\n",
              "      <td>NaN</td>\n",
              "      <td>9</td>\n",
              "      <td>9</td>\n",
              "      <td>5</td>\n",
              "      <td>6</td>\n",
              "      <td>4</td>\n",
              "      <td>3</td>\n",
              "      <td>2</td>\n",
              "      <td>5</td>\n",
              "      <td>NaN</td>\n",
              "      <td>7</td>\n",
              "      <td>NaN</td>\n",
              "    </tr>\n",
              "    <tr>\n",
              "      <th>DAVA</th>\n",
              "      <td>NaN</td>\n",
              "      <td>9</td>\n",
              "      <td>6</td>\n",
              "      <td>8</td>\n",
              "      <td>4</td>\n",
              "      <td>5</td>\n",
              "      <td>NaN</td>\n",
              "      <td>6</td>\n",
              "      <td>5</td>\n",
              "      <td>NaN</td>\n",
              "      <td>NaN</td>\n",
              "      <td>NaN</td>\n",
              "    </tr>\n",
              "    <tr>\n",
              "      <th>FROG</th>\n",
              "      <td>8</td>\n",
              "      <td>NaN</td>\n",
              "      <td>NaN</td>\n",
              "      <td>NaN</td>\n",
              "      <td>NaN</td>\n",
              "      <td>NaN</td>\n",
              "      <td>NaN</td>\n",
              "      <td>NaN</td>\n",
              "      <td>NaN</td>\n",
              "      <td>NaN</td>\n",
              "      <td>NaN</td>\n",
              "      <td>NaN</td>\n",
              "    </tr>\n",
              "    <tr>\n",
              "      <th>LOPE</th>\n",
              "      <td>4</td>\n",
              "      <td>4</td>\n",
              "      <td>3</td>\n",
              "      <td>3</td>\n",
              "      <td>3</td>\n",
              "      <td>1</td>\n",
              "      <td>2</td>\n",
              "      <td>3</td>\n",
              "      <td>3</td>\n",
              "      <td>NaN</td>\n",
              "      <td>NaN</td>\n",
              "      <td>NaN</td>\n",
              "    </tr>\n",
              "    <tr>\n",
              "      <th>CCMP</th>\n",
              "      <td>NaN</td>\n",
              "      <td>NaN</td>\n",
              "      <td>7</td>\n",
              "      <td>6</td>\n",
              "      <td>6</td>\n",
              "      <td>5</td>\n",
              "      <td>3</td>\n",
              "      <td>4</td>\n",
              "      <td>4</td>\n",
              "      <td>NaN</td>\n",
              "      <td>NaN</td>\n",
              "      <td>6</td>\n",
              "    </tr>\n",
              "    <tr>\n",
              "      <th>MSGS</th>\n",
              "      <td>5</td>\n",
              "      <td>NaN</td>\n",
              "      <td>NaN</td>\n",
              "      <td>NaN</td>\n",
              "      <td>NaN</td>\n",
              "      <td>NaN</td>\n",
              "      <td>NaN</td>\n",
              "      <td>NaN</td>\n",
              "      <td>NaN</td>\n",
              "      <td>NaN</td>\n",
              "      <td>NaN</td>\n",
              "      <td>NaN</td>\n",
              "    </tr>\n",
              "    <tr>\n",
              "      <th>SONO</th>\n",
              "      <td>7</td>\n",
              "      <td>6</td>\n",
              "      <td>7</td>\n",
              "      <td>7</td>\n",
              "      <td>8</td>\n",
              "      <td>5</td>\n",
              "      <td>6</td>\n",
              "      <td>5</td>\n",
              "      <td>NaN</td>\n",
              "      <td>4</td>\n",
              "      <td>NaN</td>\n",
              "      <td>6</td>\n",
              "    </tr>\n",
              "    <tr>\n",
              "      <th>DOYU</th>\n",
              "      <td>NaN</td>\n",
              "      <td>NaN</td>\n",
              "      <td>NaN</td>\n",
              "      <td>6</td>\n",
              "      <td>5</td>\n",
              "      <td>6</td>\n",
              "      <td>NaN</td>\n",
              "      <td>NaN</td>\n",
              "      <td>NaN</td>\n",
              "      <td>NaN</td>\n",
              "      <td>NaN</td>\n",
              "      <td>NaN</td>\n",
              "    </tr>\n",
              "  </tbody>\n",
              "</table>\n",
              "</div>"
            ],
            "text/plain": [
              "     q4-2020 q3-2020 q2-2020 q1-2020  ... q4-2018 q3-2018 q2-2018 q1-2021\n",
              "TWOU       8       7       6       6  ...      12      15     NaN     NaN\n",
              "DRVN     NaN     NaN     NaN     NaN  ...     NaN     NaN     NaN     NaN\n",
              "VNET     NaN       9       9       5  ...       5     NaN       7     NaN\n",
              "DAVA     NaN       9       6       8  ...       5     NaN     NaN     NaN\n",
              "FROG       8     NaN     NaN     NaN  ...     NaN     NaN     NaN     NaN\n",
              "LOPE       4       4       3       3  ...       3     NaN     NaN     NaN\n",
              "CCMP     NaN     NaN       7       6  ...       4     NaN     NaN       6\n",
              "MSGS       5     NaN     NaN     NaN  ...     NaN     NaN     NaN     NaN\n",
              "SONO       7       6       7       7  ...     NaN       4     NaN       6\n",
              "DOYU     NaN     NaN     NaN       6  ...     NaN     NaN     NaN     NaN\n",
              "\n",
              "[10 rows x 12 columns]"
            ]
          },
          "metadata": {
            "tags": []
          },
          "execution_count": 20
        }
      ]
    },
    {
      "cell_type": "code",
      "metadata": {
        "id": "QnqOljTkDm4m"
      },
      "source": [
        "writer = pd.ExcelWriter('Earnings_Call_Analyst_Count.xlsx')\n",
        "joined.to_excel(writer,header = True, index=True)\n",
        "writer.save()"
      ],
      "execution_count": 147,
      "outputs": []
    }
  ]
}