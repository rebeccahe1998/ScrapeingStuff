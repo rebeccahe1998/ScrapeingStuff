{
  "nbformat": 4,
  "nbformat_minor": 0,
  "metadata": {
    "colab": {
      "name": "Count_Call_Analyst.ipynb",
      "provenance": [],
      "collapsed_sections": [],
      "authorship_tag": "ABX9TyP3Yl3gPlAWb7UvwuXbyd8J",
      "include_colab_link": true
    },
    "kernelspec": {
      "display_name": "Python 3",
      "name": "python3"
    }
  },
  "cells": [
    {
      "cell_type": "markdown",
      "metadata": {
        "id": "view-in-github",
        "colab_type": "text"
      },
      "source": [
        "<a href=\"https://colab.research.google.com/github/rebeccahe1998/ScrapeingStuff/blob/main/Count_Call_Analyst.ipynb\" target=\"_parent\"><img src=\"https://colab.research.google.com/assets/colab-badge.svg\" alt=\"Open In Colab\"/></a>"
      ]
    },
    {
      "cell_type": "code",
      "metadata": {
        "id": "C-CnRYDoMJVP"
      },
      "source": [
        "from bs4 import BeautifulSoup\n",
        "import requests\n",
        "import time\n",
        "import random\n",
        "import os\n",
        "import re\n",
        "import numpy as np\n",
        "import pandas as pd\n",
        "#!pip install html2text\n",
        "import html2text\n",
        "#!pip install yfinance\n",
        "import yfinance as yf"
      ],
      "execution_count": 1,
      "outputs": []
    },
    {
      "cell_type": "markdown",
      "metadata": {
        "id": "WVHO6uPTgy1M"
      },
      "source": [
        "1. Get ticker and its full name required for Motley Fool search url\n",
        "2. Get all the available transcripts urls for the ticker\n",
        "3. Count how many analysts of text after the key word by splitting keyword 'Call participants'\n",
        "4. Generate a Excel file"
      ]
    },
    {
      "cell_type": "code",
      "metadata": {
        "colab": {
          "base_uri": "https://localhost:8080/",
          "height": 35
        },
        "id": "X3kiypBUcFY-",
        "outputId": "280b8583-8577-48cd-c39b-3718257b4aac"
      },
      "source": [
        "def full_name(ticker):\n",
        "    return yf.Ticker(ticker).info['longName'].split()[0].split(',')[0]\n",
        "full_name('UPWP')"
      ],
      "execution_count": 2,
      "outputs": [
        {
          "output_type": "execute_result",
          "data": {
            "application/vnd.google.colaboratory.intrinsic+json": {
              "type": "string"
            },
            "text/plain": [
              "'Upwork'"
            ]
          },
          "metadata": {
            "tags": []
          },
          "execution_count": 2
        }
      ]
    },
    {
      "cell_type": "code",
      "metadata": {
        "id": "shS-HO2JU2Ri"
      },
      "source": [
        "ticker_list = ['TWOU','UPWK']\n",
        "user_agent = [\"Mozilla/5.0 (Windows NT 10.0; Win64; x64) AppleWebKit/537.36 (KHTML, like Gecko) Chrome/72.0.3626.121 Safari/537.36\",\n",
        "                \"Mozilla/5.0 (Windows; U; Windows NT 6.1; en-US) AppleWebKit/534.10 (KHTML, like Gecko) Chrome/7.0.540.0 Safari/534.10\",\n",
        "                \"Mozilla/5.0 (Windows; U; Windows NT 5.2; en-US) AppleWebKit/534.4 (KHTML, like Gecko) Chrome/6.0.481.0 Safari/534.4\",\n",
        "                \"Mozilla/5.0 (Macintosh; U; Intel Mac OS X; en-US) AppleWebKit/533.4 (KHTML, like Gecko) Chrome/5.0.375.86 Safari/533.4\",\n",
        "                \"Mozilla/5.0 (Windows; U; Windows NT 5.1; en-US) AppleWebKit/532.2 (KHTML, like Gecko) Chrome/4.0.223.3 Safari/532.2\",\n",
        "                \"Mozilla/5.0 (Windows; U; Windows NT 6.1; en-US) AppleWebKit/532.0 (KHTML, like Gecko) Chrome/4.0.201.1 Safari/532.0\",\n",
        "                \"Mozilla/5.0 (Windows; U; Windows NT 5.2; en-US) AppleWebKit/532.0 (KHTML, like Gecko) Chrome/3.0.195.27 Safari/532.0\",\n",
        "                \"Mozilla/5.0 (Windows; U; Windows NT 5.1; en-US) AppleWebKit/530.5 (KHTML, like Gecko) Chrome/2.0.173.1 Safari/530.5\",\n",
        "                \"Mozilla/5.0 (Windows; U; Windows NT 5.2; en-US) AppleWebKit/534.10 (KHTML, like Gecko) Chrome/8.0.558.0 Safari/534.10\",\n",
        "                \"Mozilla/5.0 (X11; U; Linux x86_64; en-US) AppleWebKit/540.0 (KHTML,like Gecko) Chrome/9.1.0.0 Safari/540.0\"]"
      ],
      "execution_count": 3,
      "outputs": []
    },
    {
      "cell_type": "code",
      "metadata": {
        "id": "qAIlXzNzZgPC"
      },
      "source": [
        "def headers():\n",
        "    return {'User-Agent':user_agent[random.randint(0, len(user_agent) - 1)],}\n",
        "def get_urls(full_name, ticker):\n",
        "    url_ = []\n",
        "    res = requests.get(f'https://www.fool.com/quote/nasdaq/{full_name}/{ticker}/',\n",
        "                   headers=headers(),proxies={'http':'150.129.148.88'})\n",
        "    # test which exchange(NYSE OR NASDAQ)\n",
        "    if not res.status_code == 200:\n",
        "        try:\n",
        "            res = requests.get(f'https://www.fool.com/quote/nyse/{full_name}/{ticker}/',\n",
        "                   headers=headers(),proxies={'http':'150.129.148.88'})\n",
        "        except: print('URL might be wrong')\n",
        "    soup = BeautifulSoup(res.content,'lxml')\n",
        "    for i in soup.find_all('a', {'data-id' : 'article-list-hl'}, href=re.compile(\"transcripts\")):\n",
        "        url_.append('https://www.fool.com'+i.get('href'))\n",
        "    return url_\n"
      ],
      "execution_count": 5,
      "outputs": []
    },
    {
      "cell_type": "code",
      "metadata": {
        "colab": {
          "base_uri": "https://localhost:8080/"
        },
        "id": "0Om4qa4Xaaia",
        "outputId": "fd2f1a5a-8c05-4139-98cb-78c550c0aeee"
      },
      "source": [
        "get_urls('2U','TWOU')"
      ],
      "execution_count": 12,
      "outputs": [
        {
          "output_type": "execute_result",
          "data": {
            "text/plain": [
              "['https://www.fool.com/earnings/call-transcripts/2021/02/11/2u-inc-twou-q4-2020-earnings-call-transcript/',\n",
              " 'https://www.fool.com/earnings/call-transcripts/2020/10/27/2u-inc-twou-q3-2020-earnings-call-transcript/',\n",
              " 'https://www.fool.com/earnings/call-transcripts/2020/07/31/2u-inc-twou-q2-2020-earnings-call-transcript.aspx',\n",
              " 'https://www.fool.com/earnings/call-transcripts/2021/02/11/2u-inc-twou-q4-2020-earnings-call-transcript/',\n",
              " 'https://www.fool.com/earnings/call-transcripts/2020/10/27/2u-inc-twou-q3-2020-earnings-call-transcript/',\n",
              " 'https://www.fool.com/earnings/call-transcripts/2020/07/31/2u-inc-twou-q2-2020-earnings-call-transcript.aspx',\n",
              " 'https://www.fool.com/earnings/call-transcripts/2020/05/01/2u-inc-twou-q1-2020-earnings-call-transcript.aspx',\n",
              " 'https://www.fool.com/earnings/call-transcripts/2020/02/07/2u-inc-twou-q4-2019-earnings-call-transcript.aspx',\n",
              " 'https://www.fool.com/earnings/call-transcripts/2019/11/13/2u-inc-twou-q3-2019-earnings-call-transcript.aspx',\n",
              " 'https://www.fool.com/earnings/call-transcripts/2019/07/30/2u-inc-twou-q2-2019-earnings-call-transcript.aspx',\n",
              " 'https://www.fool.com/earnings/call-transcripts/2019/05/08/2u-inc-twou-q1-2019-earnings-call-transcript.aspx',\n",
              " 'https://www.fool.com/earnings/call-transcripts/2019/02/26/2u-twou-q4-2018-earnings-conference-call-transcrip.aspx',\n",
              " 'https://www.fool.com/earnings/call-transcripts/2018/11/05/2u-inc-twou-q3-2018-earnings-conference-call-trans.aspx']"
            ]
          },
          "metadata": {
            "tags": []
          },
          "execution_count": 12
        }
      ]
    },
    {
      "cell_type": "code",
      "metadata": {
        "id": "kP_jqMAHv_8F"
      },
      "source": [
        "def get_call_participated_analyst(ticker):\n",
        "    full = full_name(ticker) \n",
        "    url_ = get_urls(full,ticker)\n",
        "    inner_url_analyst_count = {'Date':[], 'Count': []}\n",
        "    for i,inner_url in enumerate(url_):\n",
        "        time.sleep(np.random.randint(10))\n",
        "        date = re.findall(r'(\\d+/\\d+/\\d+)',inner_url)[0]\n",
        "        inner_url_analyst_count['Date'].append(str(date))\n",
        "        \n",
        "        res = requests.get(inner_url,headers=headers(),proxies={'http':'150.129.148.88'})\n",
        "        #except: print('Requests went wrong')\n",
        "        soup = BeautifulSoup(res.content,'lxml') \n",
        "        text = str(res.text)\n",
        "        text = html2text.html2text(text)\n",
        "        for i in ['Call Participants','Call participant']:\n",
        "            text = text.replace(i, 'Call participants')\n",
        "        participants = text.split('Call participants')[-1] #split by keyword to get participants\n",
        "        inner_url_analyst_count['Count'].append(participants.count('Analyst'))\n",
        "    return inner_url_analyst_count"
      ],
      "execution_count": 48,
      "outputs": []
    },
    {
      "cell_type": "code",
      "metadata": {
        "colab": {
          "base_uri": "https://localhost:8080/"
        },
        "id": "HJz5QFO6Xyc-",
        "outputId": "c774d3cf-127d-4043-dee8-39d36d85a855"
      },
      "source": [
        "get_call_participated_analyst('TWOU')"
      ],
      "execution_count": 44,
      "outputs": [
        {
          "output_type": "execute_result",
          "data": {
            "text/plain": [
              "{'Count': [29, 20, 19, 29, 20, 19, 20, 19, 21, 35, 35, 41, 51],\n",
              " 'Date': ['2021/02/11',\n",
              "  '2020/10/27',\n",
              "  '2020/07/31',\n",
              "  '2021/02/11',\n",
              "  '2020/10/27',\n",
              "  '2020/07/31',\n",
              "  '2020/05/01',\n",
              "  '2020/02/07',\n",
              "  '2019/11/13',\n",
              "  '2019/07/30',\n",
              "  '2019/05/08',\n",
              "  '2019/02/26',\n",
              "  '2018/11/05']}"
            ]
          },
          "metadata": {
            "tags": []
          },
          "execution_count": 44
        }
      ]
    },
    {
      "cell_type": "code",
      "metadata": {
        "id": "TtoKPpTZRMcK"
      },
      "source": [
        "writer = pd.ExcelWriter('Earnings_Call_Analyst_Count.xlsx')\n",
        "def get_df(ticker):\n",
        "    df = pd.DataFrame(get_call_participated_analyst(ticker)).reindex(columns = ['Date','Count'])\n",
        "    df.to_excel(writer, sheet_name=ticker)\n",
        "\n",
        "get_df('TWOU')\n",
        "writer.save()"
      ],
      "execution_count": 49,
      "outputs": []
    }
  ]
}